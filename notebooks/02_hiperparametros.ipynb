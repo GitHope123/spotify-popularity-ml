{
 "cells": [
  {
   "cell_type": "markdown",
   "id": "36b27667",
   "metadata": {},
   "source": [
    "<h4>\"AJUSTE DE HIPERPARAMETROS\"</h4>\n",
    "<p>En este notebook se muestra cómo ajustar los hiperparámetros de un modelo de machine learning utilizando la librería <code>scikit-learn</code>.</p>\n"
   ]
  },
  {
   "cell_type": "code",
   "execution_count": 1,
   "id": "974541a2",
   "metadata": {},
   "outputs": [],
   "source": [
    "import pandas as pd\n",
    "from sklearn.ensemble import RandomForestRegressor  # Cambié el clasificador por el regressor\n",
    "from sklearn.metrics import mean_squared_error, r2_score, mean_absolute_error  # Importé MAE\n",
    "import numpy as np"
   ]
  },
  {
   "cell_type": "code",
   "execution_count": 2,
   "id": "0b1eb14a",
   "metadata": {},
   "outputs": [],
   "source": [
    "\n",
    "df_train = pd.read_csv('../data/train_spotify_tracks.csv')\n",
    "df_test = pd.read_csv('../data/test_spotify_tracks.csv')\n",
    "y_test = pd.read_csv('../data/y_test.csv')\n",
    "if y_test.shape[1] == 1:\n",
    "\ty_test = y_test.iloc[:, 0] # Solo tiene una columna\n"
   ]
  },
  {
   "cell_type": "code",
   "execution_count": 3,
   "id": "87167084",
   "metadata": {
    "vscode": {
     "languageId": "ruby"
    }
   },
   "outputs": [],
   "source": [
    "X_train = df_train.drop('popularity', axis=1)  # Datos de entrada\n",
    "y_train = df_train['popularity']               # Etiquetas (nivel de popularidad)\n",
    "\n",
    "X_test = df_test.copy()                        # Datos de prueba\n"
   ]
  },
  {
   "cell_type": "code",
   "execution_count": 4,
   "id": "35b1f385",
   "metadata": {
    "vscode": {
     "languageId": "ruby"
    }
   },
   "outputs": [
    {
     "name": "stdout",
     "output_type": "stream",
     "text": [
      "MSE (Mean Squared Error):  247.42\n",
      "RMSE (Root Mean Squared Error): 15.73\n",
      "MAE (Mean Absolute Error):  11.88\n",
      "R² (R squared):   0.30\n"
     ]
    }
   ],
   "source": [
    "# 2.5. Crear y entrenar el modelo de Random Forest con hiperparámetros óptimos\n",
    "# {'n_estimators': 200, 'min_samples_split': 5, 'min_samples_leaf': 2}\n",
    "# -> el indicado {'n_estimators': 200, 'min_samples_split': 5, 'min_samples_leaf': 1, 'max_depth': 20}\n",
    "modelo = RandomForestRegressor(\n",
    "    n_estimators=200,\n",
    "    min_samples_split=5,\n",
    "    min_samples_leaf=1,\n",
    "    max_depth=20,\n",
    "    random_state=42\n",
    ")\n",
    "\n",
    "modelo.fit(X_train, y_train)\n",
    "\n",
    "\n",
    "# 2.6. Generar predicciones con el modelo entrenado\n",
    "y_pred = modelo.predict(X_test)  # Predicciones de popularidad\n",
    "\n",
    "# 2.7. Crear dataframe con resultados\n",
    "df_resultados = X_test.copy()\n",
    "df_resultados['Predicted_popularity'] = y_pred  # Agregar las predicciones al dataframe\n",
    "\n",
    "# 2.8. Calcular el error de cada predicción\n",
    "# El error es la diferencia entre la predicción y el valor real\n",
    "df_resultados['Error'] = df_resultados['Predicted_popularity'] - y_test.values\n",
    "\n",
    "# 2.9. Redondear los valores a enteros (sin decimales)\n",
    "df_resultados['Predicted_popularity'] = df_resultados['Predicted_popularity'].round(0).astype(int)\n",
    "df_resultados['Error'] = df_resultados['Error'].round(0).astype(int)\n",
    "\n",
    "# 2.7. Calcular métricas generales de evaluación\n",
    "mse  = mean_squared_error(y_test, y_pred)\n",
    "rmse = np.sqrt(mse)\n",
    "mae  = mean_absolute_error(y_test, y_pred)\n",
    "r2   = r2_score(y_test, y_pred)\n",
    "\n",
    "# Imprimir las métricas generales\n",
    "print(f\"MSE (Mean Squared Error):  {mse:.2f}\")\n",
    "print(f\"RMSE (Root Mean Squared Error): {rmse:.2f}\")\n",
    "print(f\"MAE (Mean Absolute Error):  {mae:.2f}\")\n",
    "print(f\"R² (R squared):   {r2:.2f}\")\n"
   ]
  }
 ],
 "metadata": {
  "kernelspec": {
   "display_name": "Python 3",
   "language": "python",
   "name": "python3"
  },
  "language_info": {
   "codemirror_mode": {
    "name": "ipython",
    "version": 3
   },
   "file_extension": ".py",
   "mimetype": "text/x-python",
   "name": "python",
   "nbconvert_exporter": "python",
   "pygments_lexer": "ipython3",
   "version": "3.12.1"
  }
 },
 "nbformat": 4,
 "nbformat_minor": 5
}
